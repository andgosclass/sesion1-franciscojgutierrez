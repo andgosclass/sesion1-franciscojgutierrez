{
 "cells": [
  {
   "cell_type": "markdown",
   "metadata": {
    "id": "v1RYK01d1EOk"
   },
   "source": [
    "# Paradigmas de Programación en Python\n",
    "\n",
    "Este notebook explora los principales paradigmas de programación que soporta Python, con ejemplos y explicaciones técnicas y sencillas.\n",
    "\n",
    "---\n",
    "\n",
    "## ¿Qué es un paradigma de programación?\n",
    "\n",
    "Un **paradigma** es un modelo o conjunto de ideas aceptadas que orientan cómo resolver problemas en programación.  \n",
    "Python es un lenguaje **multiparadigma**: puedes elegir y mezclar el estilo que mejor se adapte a tu problema o tus preferencias.\n",
    "\n",
    "---\n",
    "\n",
    "# 1. Paradigma Imperativo\n",
    "\n",
    "El paradigma **imperativo** se basa en describir paso a paso cómo realizar una tarea usando instrucciones secuenciales.\n",
    "\n",
    "**Ejemplo: calcular la media móvil con ventana 3**\n"
   ]
  },
  {
   "cell_type": "code",
   "execution_count": 2,
   "metadata": {
    "colab": {
     "base_uri": "https://localhost:8080/"
    },
    "executionInfo": {
     "elapsed": 32,
     "status": "ok",
     "timestamp": 1749038709308,
     "user": {
      "displayName": "Andres Gonzalez Sanchez",
      "userId": "16851361017637009623"
     },
     "user_tz": -120
    },
    "id": "BRUkUSaL1JFQ",
    "outputId": "971a98c1-0dd4-4402-db69-8184d15505f9"
   },
   "outputs": [
    {
     "name": "stdout",
     "output_type": "stream",
     "text": [
      "Media móvil (imperativo): [11.0, 12.0, 13.0]\n"
     ]
    }
   ],
   "source": [
    "# Paradigma imperativo: media móvil\n",
    "data = [10, 11, 12, 13, 14]\n",
    "window = 3\n",
    "i = 0\n",
    "sums = []\n",
    "while i + window <= len(data):\n",
    "    total = 0\n",
    "    j = 0\n",
    "    while j < window:\n",
    "        total += data[i + j]\n",
    "        j += 1\n",
    "    sums.append(total / window)\n",
    "    i += 1\n",
    "print(\"Media móvil (imperativo):\", sums)\n"
   ]
  },
  {
   "cell_type": "code",
   "execution_count": 3,
   "metadata": {},
   "outputs": [
    {
     "data": {
      "text/plain": [
       "[10, 11, 12, 13, 14]"
      ]
     },
     "execution_count": 3,
     "metadata": {},
     "output_type": "execute_result"
    }
   ],
   "source": [
    "data"
   ]
  },
  {
   "cell_type": "markdown",
   "metadata": {
    "id": "HMqkYPaN1L7K"
   },
   "source": [
    "**Características:**\n",
    "- Uso explícito de variables y bucles.\n",
    "- Control detallado del flujo.\n",
    "- Similar a una receta paso a paso.\n",
    "\n",
    "---\n",
    "\n",
    "# 2. Paradigma Procedural\n",
    "\n",
    "El **procedural** es una extensión del imperativo, que organiza el código en funciones o procedimientos reutilizables.\n",
    "\n",
    "**Ejemplo:**\n"
   ]
  },
  {
   "cell_type": "code",
   "execution_count": null,
   "metadata": {
    "colab": {
     "base_uri": "https://localhost:8080/"
    },
    "executionInfo": {
     "elapsed": 7,
     "status": "ok",
     "timestamp": 1749038720815,
     "user": {
      "displayName": "Andres Gonzalez Sanchez",
      "userId": "16851361017637009623"
     },
     "user_tz": -120
    },
    "id": "GUAcCh-w1AYh",
    "outputId": "9f810a82-6c41-4714-de66-093807f5db1a"
   },
   "outputs": [
    {
     "name": "stdout",
     "output_type": "stream",
     "text": [
      "Media móvil (procedural): [11.0, 12.0, 13.0]\n"
     ]
    }
   ],
   "source": [
    "def moving_average(seq, k):\n",
    "    \"\"\"Devuelve lista de medias móviles de tamaño k.\"\"\"\n",
    "    return [sum(seq[i:i+k]) / k for i in range(len(seq) - k + 1)]\n",
    "\n",
    "print(\"Media móvil (procedural):\", moving_average([10, 11, 12, 13, 14], 3))\n"
   ]
  },
  {
   "cell_type": "markdown",
   "metadata": {
    "id": "eVo-WHJ71P8s"
   },
   "source": [
    "**Características:**\n",
    "- Modularidad: organización en funciones.\n",
    "- Reutilización y legibilidad.\n",
    "\n",
    "---\n",
    "\n",
    "# 3. Paradigma Orientado a Objetos (OOP)\n",
    "\n",
    "La **OOP** encapsula datos y comportamiento en objetos (instancias de clases).\n",
    "\n",
    "**Ejemplo:**\n"
   ]
  },
  {
   "cell_type": "code",
   "execution_count": null,
   "metadata": {
    "colab": {
     "base_uri": "https://localhost:8080/"
    },
    "executionInfo": {
     "elapsed": 6,
     "status": "ok",
     "timestamp": 1749038737050,
     "user": {
      "displayName": "Andres Gonzalez Sanchez",
      "userId": "16851361017637009623"
     },
     "user_tz": -120
    },
    "id": "DChIojrT1LPK",
    "outputId": "96592b53-5656-4635-d623-0854767e5be9"
   },
   "outputs": [
    {
     "name": "stdout",
     "output_type": "stream",
     "text": [
      "Media móvil (OOP): [11.0, 12.0, 13.0]\n"
     ]
    }
   ],
   "source": [
    "class MovingAverage:\n",
    "    def __init__(self, window):\n",
    "        self.window = window\n",
    "\n",
    "    def compute(self, seq):\n",
    "        return [sum(seq[i:i+self.window]) / self.window\n",
    "                for i in range(len(seq) - self.window + 1)]\n",
    "\n",
    "ma3 = MovingAverage(3)\n",
    "print(\"Media móvil (OOP):\", ma3.compute([10, 11, 12, 13, 14]))\n"
   ]
  },
  {
   "cell_type": "markdown",
   "metadata": {
    "id": "KxykuBFU1UZo"
   },
   "source": [
    "**Características:**\n",
    "- Encapsulamiento (datos + métodos).\n",
    "- Modularidad, reutilización y escalabilidad.\n",
    "\n",
    "---\n",
    "\n",
    "# 4. Paradigma Funcional\n",
    "\n",
    "En el **funcional**, el foco está en funciones puras, datos inmutables y transformaciones declarativas.\n",
    "\n",
    "**Ejemplo usando funciones puras y generadores:**\n"
   ]
  },
  {
   "cell_type": "code",
   "execution_count": null,
   "metadata": {
    "colab": {
     "base_uri": "https://localhost:8080/"
    },
    "executionInfo": {
     "elapsed": 45,
     "status": "ok",
     "timestamp": 1749038753978,
     "user": {
      "displayName": "Andres Gonzalez Sanchez",
      "userId": "16851361017637009623"
     },
     "user_tz": -120
    },
    "id": "pagjGhcE1SYL",
    "outputId": "2a761660-c145-4aa5-eb30-9f5c3657437e"
   },
   "outputs": [
    {
     "name": "stdout",
     "output_type": "stream",
     "text": [
      "Media móvil (funcional): [11.0, 12.0, 13.0]\n"
     ]
    }
   ],
   "source": [
    "from itertools import islice\n",
    "\n",
    "def window(seq, k):\n",
    "    \"\"\"Generador perezoso de ventanas deslizantes.\"\"\"\n",
    "    iters = (islice(seq, i, None) for i in range(k))\n",
    "    return zip(*iters)\n",
    "\n",
    "def moving_average_functional(seq, k):\n",
    "    return list(map(lambda w: sum(w) / k, window(seq, k)))\n",
    "\n",
    "print(\"Media móvil (funcional):\", moving_average_functional([10, 11, 12, 13, 14], 3))\n"
   ]
  },
  {
   "cell_type": "markdown",
   "metadata": {
    "id": "eHELeH8X1YFw"
   },
   "source": [
    "**Características:**\n",
    "- Funciones puras (sin efectos colaterales).\n",
    "- Datos inmutables.\n",
    "- Uso de funciones de orden superior.\n",
    "\n",
    "---\n",
    "\n",
    "# Bonus: Comprensión de listas y código declarativo\n",
    "\n",
    "Python permite expresiones muy **declarativas**, como las **comprensiones de listas**:\n",
    "\n",
    "```python\n",
    "medias = [sum(data[i:i+3]) / 3 for i in range(len(data) - 2)]\n",
    "print(\"Media móvil (declarativo):\", medias)\n"
   ]
  },
  {
   "cell_type": "markdown",
   "metadata": {
    "id": "zQSGyA1E1v6H"
   },
   "source": [
    "# Comparativa de paradigmas\n"
   ]
  },
  {
   "cell_type": "markdown",
   "metadata": {
    "id": "qhDAH4Vt1oOD"
   },
   "source": [
    "| Paradigma      | Ejemplo en Python                   | Ventajas                              | Inconvenientes                        |\n",
    "|----------------|-------------------------------------|---------------------------------------|---------------------------------------|\n",
    "| Imperativo     | Bucles, variables, asignaciones     | Máximo control, fácil de depurar      | Más código, menos expresivo/legible   |\n",
    "| Procedural     | Definición y uso de funciones       | Modularidad, reutilización            | Puede crecer en complejidad si abusa  |\n",
    "| Orientado a objetos (OOP) | Clases, métodos, objetos              | Escalabilidad, encapsulamiento, reutilización | Puede ser sobre-ingeniería para problemas simples |\n",
    "| Funcional      | map, filter, lambda, comprensiones  | Código declarativo, testabilidad, fácil paralelizar | A veces menos intuitivo, recursión limitada en Python |\n"
   ]
  },
  {
   "cell_type": "markdown",
   "metadata": {
    "id": "sCaRD9Tr17Rw"
   },
   "source": [
    "# Conclusión\n",
    "\n",
    "Python permite combinar paradigmas para resolver problemas de la manera más clara y eficiente posible.\n",
    "Entender los distintos enfoques te ayuda a elegir el más adecuado para cada situación."
   ]
  },
  {
   "cell_type": "code",
   "execution_count": null,
   "metadata": {
    "id": "CQ2lez811Wf8"
   },
   "outputs": [],
   "source": []
  }
 ],
 "metadata": {
  "colab": {
   "authorship_tag": "ABX9TyOtw/9pic83AXo54XXun14H",
   "provenance": []
  },
  "kernelspec": {
   "display_name": "Python 3",
   "name": "python3"
  },
  "language_info": {
   "codemirror_mode": {
    "name": "ipython",
    "version": 3
   },
   "file_extension": ".py",
   "mimetype": "text/x-python",
   "name": "python",
   "nbconvert_exporter": "python",
   "pygments_lexer": "ipython3",
   "version": "3.10.12"
  }
 },
 "nbformat": 4,
 "nbformat_minor": 0
}
